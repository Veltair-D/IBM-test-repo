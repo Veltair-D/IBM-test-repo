{
 "cells": [
  {
   "cell_type": "markdown",
   "id": "93e47b18-fbe3-49a6-80bf-f27348a3f58c",
   "metadata": {},
   "source": [
    "# Data Science Tools and Ecosystem"
   ]
  },
  {
   "cell_type": "markdown",
   "id": "9e18c01c-bb87-4952-8303-608a50a52ac1",
   "metadata": {},
   "source": [
    "In this notebook, Data Science Tools and Ecosystem are summarized."
   ]
  },
  {
   "cell_type": "markdown",
   "id": "656f5c80-06c1-40c3-9d94-fcc030b6b0e7",
   "metadata": {},
   "source": [
    "**Objectives:**\n",
    "- Python\n",
    "- R\n",
    "- SQL\n",
    "- Jupyter\n",
    "- GitHub"
   ]
  },
  {
   "cell_type": "markdown",
   "id": "a2047259-2147-4b52-90fa-f064e3a1eebe",
   "metadata": {},
   "source": [
    "Some of the popular languages that Data Scientists use are:\n",
    "1. Python\n",
    "2. R\n",
    "3. SAS"
   ]
  },
  {
   "cell_type": "markdown",
   "id": "dafe289e-5921-4e3f-a520-b2d0ad9e001a",
   "metadata": {},
   "source": [
    "Some of the commonly used libraries used by Data Scientists include:\n",
    "1. Matplotlib\n",
    "2. Numpy\n",
    "3. Pandas"
   ]
  },
  {
   "cell_type": "markdown",
   "id": "a5f8f1f5-4d2b-4fdf-9934-fe7d1966b4d7",
   "metadata": {},
   "source": [
    "| Data Science Tools |\n",
    "| -------------|\n",
    "| SQL | \n",
    "| Python | \n",
    "| GitHub |\n",
    "| Jupyter |\n",
    "| VSCode |\n",
    "| Deep Learning |"
   ]
  },
  {
   "cell_type": "markdown",
   "id": "36694411-400f-4bbf-8d41-61eb6d0c2bad",
   "metadata": {},
   "source": [
    "### Below are a few examples of evaluating arithmetic expressions in Python"
   ]
  },
  {
   "cell_type": "markdown",
   "id": "26b5cc9b-ca3a-4dd5-aa5d-66413d2509a4",
   "metadata": {},
   "source": [
    "This a simple arithmetic expression to mutiply then add integers"
   ]
  },
  {
   "cell_type": "code",
   "execution_count": 1,
   "id": "e497358b-999b-4057-a3d1-212cc3738f56",
   "metadata": {},
   "outputs": [
    {
     "data": {
      "text/plain": [
       "17"
      ]
     },
     "execution_count": 1,
     "metadata": {},
     "output_type": "execute_result"
    }
   ],
   "source": [
    "(3*4)+5"
   ]
  },
  {
   "cell_type": "markdown",
   "id": "104b78d5-4dca-4e81-b246-9db93d0cc296",
   "metadata": {},
   "source": [
    "This will convert 200 minutes to hours by diving by 60"
   ]
  },
  {
   "cell_type": "code",
   "execution_count": 2,
   "id": "427d547e-6437-460a-aa5c-677deb6d4d85",
   "metadata": {},
   "outputs": [
    {
     "data": {
      "text/plain": [
       "3.3333333333333335"
      ]
     },
     "execution_count": 2,
     "metadata": {},
     "output_type": "execute_result"
    }
   ],
   "source": [
    "200/60"
   ]
  },
  {
   "cell_type": "markdown",
   "id": "53428077-2444-4aaa-b035-af34a697ee50",
   "metadata": {},
   "source": [
    "## Author\n",
    "Fabian Quevedo"
   ]
  }
 ],
 "metadata": {
  "kernelspec": {
   "display_name": "Python 3 (ipykernel)",
   "language": "python",
   "name": "python3"
  },
  "language_info": {
   "codemirror_mode": {
    "name": "ipython",
    "version": 3
   },
   "file_extension": ".py",
   "mimetype": "text/x-python",
   "name": "python",
   "nbconvert_exporter": "python",
   "pygments_lexer": "ipython3",
   "version": "3.11.7"
  }
 },
 "nbformat": 4,
 "nbformat_minor": 5
}
